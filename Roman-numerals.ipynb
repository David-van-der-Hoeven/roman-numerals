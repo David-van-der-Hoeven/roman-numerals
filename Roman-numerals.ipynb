{
 "cells": [
  {
   "cell_type": "code",
   "execution_count": 1,
   "metadata": {},
   "outputs": [],
   "source": [
    "def get_roman_number(number, divider):\n",
    "    output_number = int(number / divider)\n",
    "    number -= (output_number * divider)\n",
    "    return output_number, number"
   ]
  },
  {
   "cell_type": "code",
   "execution_count": 2,
   "metadata": {},
   "outputs": [],
   "source": [
    "def create_roman_number(number):\n",
    "    subdivision = [5000, 1000, 500, 100, 50, 10, 5, 1]\n",
    "    symbols = ['V','M','D','C','L','X','V','I']\n",
    "    symbols_4 = ['V','MV','DM','CD','LC','XL','VX','IV']\n",
    "    divided_number = []\n",
    "    for div in subdivision:\n",
    "        numbers, number = get_roman_number(number, div)\n",
    "        divided_number.append(numbers)\n",
    "    output_string = \"\"\n",
    "    for m, n in enumerate(divided_number):\n",
    "        if n == 4:\n",
    "            output_string += symbols_4[m]\n",
    "        else:\n",
    "            output_string += n * symbols[m]\n",
    "    return output_string"
   ]
  },
  {
   "cell_type": "code",
   "execution_count": 5,
   "metadata": {},
   "outputs": [
    {
     "data": {
      "text/plain": [
       "'CCLXXIII'"
      ]
     },
     "execution_count": 5,
     "metadata": {},
     "output_type": "execute_result"
    }
   ],
   "source": [
    "create_roman_number(273)"
   ]
  }
 ],
 "metadata": {
  "kernelspec": {
   "display_name": "Python 3",
   "language": "python",
   "name": "python3"
  },
  "language_info": {
   "codemirror_mode": {
    "name": "ipython",
    "version": 3
   },
   "file_extension": ".py",
   "mimetype": "text/x-python",
   "name": "python",
   "nbconvert_exporter": "python",
   "pygments_lexer": "ipython3",
   "version": "3.8.5"
  }
 },
 "nbformat": 4,
 "nbformat_minor": 4
}
